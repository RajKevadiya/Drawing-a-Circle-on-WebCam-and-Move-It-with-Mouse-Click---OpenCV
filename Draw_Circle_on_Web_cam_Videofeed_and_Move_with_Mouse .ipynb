{
 "cells": [
  {
   "cell_type": "code",
   "execution_count": 1,
   "metadata": {},
   "outputs": [],
   "source": [
    "import cv2 as cv"
   ]
  },
  {
   "cell_type": "code",
   "execution_count": 2,
   "metadata": {},
   "outputs": [
    {
     "name": "stdout",
     "output_type": "stream",
     "text": [
      "pressed 278 169\n",
      "pressed 600 31\n",
      "pressed 539 250\n",
      "pressed 425 256\n",
      "pressed 501 349\n",
      "pressed 550 386\n",
      "pressed 376 396\n",
      "pressed 228 402\n",
      "pressed 46 290\n",
      "pressed 130 197\n",
      "pressed 477 121\n",
      "pressed 472 252\n",
      "pressed 357 317\n"
     ]
    }
   ],
   "source": [
    "cap = cv.VideoCapture(0)\n",
    "\n",
    "color =(0,255,0)\n",
    "line_width = 3\n",
    "radius = 100\n",
    "point = (0,0)\n",
    "\n",
    "def click(event, x, y, flags, param):\n",
    "    global point, pressed\n",
    "    if event == cv.EVENT_LBUTTONDOWN:\n",
    "        print('pressed', x, y)\n",
    "        point = (x ,y)\n",
    "        \n",
    "cv.namedWindow(\"frame\")\n",
    "cv.setMouseCallback(\"frame\", click)\n",
    "\n",
    "while (True):\n",
    "    \n",
    "    ret,frame = cap.read()\n",
    "    \n",
    "    frame = cv.resize(frame, (0,0), fx=1, fy=1)\n",
    "    cv.circle(frame, point, radius, color, line_width)\n",
    "    cv.imshow('frame', frame)\n",
    "    \n",
    "    ch = cv.waitKey(1)\n",
    "    if ch & 0xFF == ord('q'):\n",
    "        break\n",
    "        \n",
    "        \n",
    "cap.release()\n",
    "cv.destroyAllWindows()"
   ]
  }
 ],
 "metadata": {
  "kernelspec": {
   "display_name": "Python 3",
   "language": "python",
   "name": "python3"
  },
  "language_info": {
   "codemirror_mode": {
    "name": "ipython",
    "version": 3
   },
   "file_extension": ".py",
   "mimetype": "text/x-python",
   "name": "python",
   "nbconvert_exporter": "python",
   "pygments_lexer": "ipython3",
   "version": "3.8.5"
  }
 },
 "nbformat": 4,
 "nbformat_minor": 5
}
